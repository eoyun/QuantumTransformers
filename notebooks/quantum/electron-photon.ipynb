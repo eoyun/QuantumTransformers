{
 "cells": [
  {
   "cell_type": "markdown",
   "metadata": {},
   "source": [
    "# Electron-Photon (Quantum)\n",
    "\n",
    "This notebooks trains and evaluates quantum vision transformers for the electron-photon classification task.\n",
    "You can find information about the dataset at https://arxiv.org/abs/1807.11916"
   ]
  },
  {
   "cell_type": "code",
   "execution_count": 1,
   "metadata": {
    "execution": {
     "iopub.execute_input": "2023-10-09T22:05:56.067959Z",
     "iopub.status.busy": "2023-10-09T22:05:56.067728Z",
     "iopub.status.idle": "2023-10-09T22:06:17.703137Z",
     "shell.execute_reply": "2023-10-09T22:06:17.702714Z"
    }
   },
   "outputs": [
    {
     "name": "stderr",
     "output_type": "stream",
     "text": [
      "2023-10-30 13:08:32.698164: E tensorflow/compiler/xla/stream_executor/cuda/cuda_dnn.cc:9342] Unable to register cuDNN factory: Attempting to register factory for plugin cuDNN when one has already been registered\n",
      "2023-10-30 13:08:32.698193: E tensorflow/compiler/xla/stream_executor/cuda/cuda_fft.cc:609] Unable to register cuFFT factory: Attempting to register factory for plugin cuFFT when one has already been registered\n",
      "2023-10-30 13:08:32.698216: E tensorflow/compiler/xla/stream_executor/cuda/cuda_blas.cc:1518] Unable to register cuBLAS factory: Attempting to register factory for plugin cuBLAS when one has already been registered\n",
      "2023-10-30 13:08:36.241841: W tensorflow/compiler/tf2tensorrt/utils/py_utils.cc:38] TF-TRT Warning: Could not find TensorRT\n",
      "Please first ``pip install -U cirq`` to enable related functionality in translation module\n"
     ]
    }
   ],
   "source": [
    "import jax\n",
    "\n",
    "from quantum_transformers.utils import plot_image\n",
    "from quantum_transformers.datasets import get_electron_photon_dataloaders\n",
    "from quantum_transformers.training import train_and_evaluate\n",
    "from quantum_transformers.transformers import VisionTransformer\n",
    "from quantum_transformers.quantum_layer import get_circuit\n",
    "\n",
    "data_dir = '/global/cfs/cdirs/m4392/salcc/data'"
   ]
  },
  {
   "cell_type": "markdown",
   "metadata": {},
   "source": [
    "The models are trained using the following devices:"
   ]
  },
  {
   "cell_type": "code",
   "execution_count": 2,
   "metadata": {
    "execution": {
     "iopub.execute_input": "2023-10-09T22:06:17.705244Z",
     "iopub.status.busy": "2023-10-09T22:06:17.704907Z",
     "iopub.status.idle": "2023-10-09T22:06:17.960993Z",
     "shell.execute_reply": "2023-10-09T22:06:17.960529Z"
    }
   },
   "outputs": [
    {
     "name": "stdout",
     "output_type": "stream",
     "text": [
      "gpu:0 NVIDIA A100-SXM4-80GB\n"
     ]
    }
   ],
   "source": [
    "for d in jax.devices():\n",
    "    print(d, d.device_kind)"
   ]
  },
  {
   "cell_type": "markdown",
   "metadata": {},
   "source": [
    "Let's check how many samples the dataset has, the shape of the input data, and how one sample looks like."
   ]
  },
  {
   "cell_type": "code",
   "execution_count": 3,
   "metadata": {
    "execution": {
     "iopub.execute_input": "2023-10-09T22:06:17.962778Z",
     "iopub.status.busy": "2023-10-09T22:06:17.962535Z",
     "iopub.status.idle": "2023-10-09T22:06:18.720157Z",
     "shell.execute_reply": "2023-10-09T22:06:18.719759Z"
    }
   },
   "outputs": [
    {
     "name": "stdout",
     "output_type": "stream",
     "text": [
      "Cardinalities (train, val, test): 439200 48800 10000\n",
      "(32, 32, 2)\n"
     ]
    },
    {
     "data": {
      "image/png": "[encoded data removed]",
      "text/plain": [
       "<Figure size 600x300 with 2 Axes>"
      ]
     },
     "metadata": {},
     "output_type": "display_data"
    }
   ],
   "source": [
    "ep_train_dataloader, ep_val_dataloader, ep_test_dataloader = get_electron_photon_dataloaders(batch_size=512, data_dir=data_dir)\n",
    "first_image = next(iter(ep_train_dataloader))[0][0]\n",
    "print(first_image.shape)\n",
    "plot_image(first_image, abs_log=True)"
   ]
  },
  {
   "cell_type": "markdown",
   "metadata": {},
   "source": [
    "First, we train one good configuration with few parameters, which obtains a good AUC, although it is not as good as the classical baseline."
   ]
  },
  {
   "cell_type": "code",
   "execution_count": 10,
   "metadata": {
    "execution": {
     "iopub.execute_input": "2023-10-09T22:51:12.100142Z",
     "iopub.status.busy": "2023-10-09T22:51:12.099990Z",
     "iopub.status.idle": "2023-10-10T00:04:30.699185Z",
     "shell.execute_reply": "2023-10-10T00:04:30.698736Z"
    }
   },
   "outputs": [
    {
     "name": "stdout",
     "output_type": "stream",
     "text": [
      "Number of parameters = 2290\n"
     ]
    },
    {
     "name": "stderr",
     "output_type": "stream",
     "text": [
      "Epoch   1/50: 100%|██████████| 857/857 [02:04<00:00,  6.88batch/s, Loss = 0.7061, AUC = 52.74%]                                                  \n",
      "Epoch   2/50: 100%|██████████| 857/857 [01:17<00:00, 11.06batch/s, Loss = 0.6903, AUC = 58.43%]                                                  \n",
      "Epoch   3/50: 100%|██████████| 857/857 [01:16<00:00, 11.15batch/s, Loss = 0.6819, AUC = 62.98%]                                                  \n",
      "Epoch   4/50: 100%|██████████| 857/857 [01:16<00:00, 11.14batch/s, Loss = 0.6639, AUC = 64.61%]                                                  \n",
      "Epoch   5/50: 100%|██████████| 857/857 [01:16<00:00, 11.18batch/s, Loss = 0.6539, AUC = 66.09%]                                                  \n",
      "Epoch   6/50: 100%|██████████| 857/857 [01:16<00:00, 11.17batch/s, Loss = 0.6474, AUC = 66.80%]                                                  \n",
      "Epoch   7/50: 100%|██████████| 857/857 [01:17<00:00, 11.06batch/s, Loss = 0.6452, AUC = 67.22%]                                                  \n",
      "Epoch   8/50: 100%|██████████| 857/857 [01:16<00:00, 11.17batch/s, Loss = 0.6431, AUC = 67.57%]                                                  \n",
      "Epoch   9/50: 100%|██████████| 857/857 [01:16<00:00, 11.17batch/s, Loss = 0.6401, AUC = 67.96%]                                                  \n",
      "Epoch  10/50: 100%|██████████| 857/857 [01:16<00:00, 11.18batch/s, Loss = 0.6342, AUC = 68.99%]                                                  \n",
      "Epoch  11/50: 100%|██████████| 857/857 [01:17<00:00, 11.05batch/s, Loss = 0.6294, AUC = 69.82%]                                                  \n",
      "Epoch  12/50: 100%|██████████| 857/857 [01:16<00:00, 11.21batch/s, Loss = 0.6253, AUC = 70.53%]                                                  \n",
      "Epoch  13/50: 100%|██████████| 857/857 [01:16<00:00, 11.18batch/s, Loss = 0.6201, AUC = 71.30%]                                                  \n",
      "Epoch  14/50: 100%|██████████| 857/857 [01:16<00:00, 11.17batch/s, Loss = 0.6126, AUC = 72.29%]                                                  \n",
      "Epoch  15/50: 100%|██████████| 857/857 [01:16<00:00, 11.17batch/s, Loss = 0.6105, AUC = 73.10%]                                                  \n",
      "Epoch  16/50: 100%|██████████| 857/857 [01:17<00:00, 11.06batch/s, Loss = 0.6056, AUC = 73.53%]                                                  \n",
      "Epoch  17/50: 100%|██████████| 857/857 [01:16<00:00, 11.22batch/s, Loss = 0.5989, AUC = 73.96%]                                                  \n",
      "Epoch  18/50: 100%|██████████| 857/857 [01:16<00:00, 11.18batch/s, Loss = 0.6002, AUC = 74.40%]                                                  \n",
      "Epoch  19/50: 100%|██████████| 857/857 [01:16<00:00, 11.18batch/s, Loss = 0.5950, AUC = 74.73%]                                                  \n",
      "Epoch  20/50: 100%|██████████| 857/857 [01:17<00:00, 11.07batch/s, Loss = 0.5928, AUC = 74.92%]                                                  \n",
      "Epoch  21/50: 100%|██████████| 857/857 [01:16<00:00, 11.19batch/s, Loss = 0.5943, AUC = 75.06%]                                                  \n",
      "Epoch  22/50: 100%|██████████| 857/857 [01:16<00:00, 11.17batch/s, Loss = 0.5873, AUC = 75.35%]                                                  \n",
      "Epoch  23/50: 100%|██████████| 857/857 [01:16<00:00, 11.16batch/s, Loss = 0.5858, AUC = 75.51%]                                                  \n",
      "Epoch  24/50: 100%|██████████| 857/857 [01:17<00:00, 11.05batch/s, Loss = 0.5872, AUC = 75.52%]                                                  \n",
      "Epoch  25/50: 100%|██████████| 857/857 [01:16<00:00, 11.22batch/s, Loss = 0.5853, AUC = 75.53%]                                                  \n",
      "Epoch  26/50: 100%|██████████| 857/857 [01:16<00:00, 11.15batch/s, Loss = 0.5893, AUC = 75.78%]                                                  \n",
      "Epoch  27/50: 100%|██████████| 857/857 [01:17<00:00, 11.10batch/s, Loss = 0.5853, AUC = 75.91%]                                                  \n",
      "Epoch  28/50: 100%|██████████| 857/857 [01:16<00:00, 11.14batch/s, Loss = 0.5796, AUC = 76.05%]                                                  \n",
      "Epoch  29/50: 100%|██████████| 857/857 [01:17<00:00, 11.03batch/s, Loss = 0.5809, AUC = 76.14%]                                                  \n",
      "Epoch  30/50: 100%|██████████| 857/857 [01:16<00:00, 11.16batch/s, Loss = 0.5803, AUC = 76.15%]                                                  \n",
      "Epoch  31/50: 100%|██████████| 857/857 [01:16<00:00, 11.18batch/s, Loss = 0.5786, AUC = 76.23%]                                                  \n",
      "Epoch  32/50: 100%|██████████| 857/857 [01:16<00:00, 11.15batch/s, Loss = 0.5807, AUC = 76.40%]                                                  \n",
      "Epoch  33/50: 100%|██████████| 857/857 [01:18<00:00, 10.89batch/s, Loss = 0.5797, AUC = 76.40%]                                                  \n",
      "Epoch  34/50: 100%|██████████| 857/857 [01:17<00:00, 11.06batch/s, Loss = 0.5783, AUC = 76.35%]                                                  \n",
      "Epoch  35/50: 100%|██████████| 857/857 [01:16<00:00, 11.17batch/s, Loss = 0.5780, AUC = 76.35%]                                                  \n",
      "Epoch  36/50: 100%|██████████| 857/857 [01:17<00:00, 11.08batch/s, Loss = 0.5784, AUC = 76.52%]                                                  \n",
      "Epoch  37/50: 100%|██████████| 857/857 [01:17<00:00, 11.10batch/s, Loss = 0.5782, AUC = 76.62%]                                                  \n",
      "Epoch  38/50: 100%|██████████| 857/857 [01:17<00:00, 11.02batch/s, Loss = 0.5779, AUC = 76.57%]                                                  \n",
      "Epoch  39/50: 100%|██████████| 857/857 [01:22<00:00, 10.39batch/s, Loss = 0.5766, AUC = 76.70%]                                                  \n",
      "Epoch  40/50: 100%|██████████| 857/857 [01:16<00:00, 11.13batch/s, Loss = 0.5752, AUC = 76.66%]                                                  \n",
      "Epoch  41/50: 100%|██████████| 857/857 [01:17<00:00, 11.11batch/s, Loss = 0.5756, AUC = 76.79%]                                                  \n",
      "Epoch  42/50: 100%|██████████| 857/857 [01:17<00:00, 11.02batch/s, Loss = 0.5747, AUC = 76.80%]                                                  \n",
      "Epoch  43/50: 100%|██████████| 857/857 [01:16<00:00, 11.14batch/s, Loss = 0.5760, AUC = 76.83%]                                                  \n",
      "Epoch  44/50: 100%|██████████| 857/857 [01:16<00:00, 11.14batch/s, Loss = 0.5751, AUC = 76.80%]                                                  \n",
      "Epoch  45/50: 100%|██████████| 857/857 [01:17<00:00, 11.07batch/s, Loss = 0.5736, AUC = 76.82%]                                                  \n",
      "Epoch  46/50: 100%|██████████| 857/857 [01:18<00:00, 10.98batch/s, Loss = 0.5738, AUC = 76.85%]                                                  \n",
      "Epoch  47/50: 100%|██████████| 857/857 [01:18<00:00, 10.95batch/s, Loss = 0.5739, AUC = 76.85%]                                                  \n",
      "Epoch  48/50: 100%|██████████| 857/857 [01:16<00:00, 11.16batch/s, Loss = 0.5739, AUC = 76.91%]                                                  \n",
      "Epoch  49/50: 100%|██████████| 857/857 [01:17<00:00, 11.10batch/s, Loss = 0.5743, AUC = 76.92%]                                                  \n",
      "Epoch  50/50: 100%|██████████| 857/857 [01:16<00:00, 11.16batch/s, Loss = 0.5735, AUC = 76.90%]                                                  \n"
     ]
    },
    {
     "name": "stdout",
     "output_type": "stream",
     "text": [
      "Total training time = 3906.78s, best validation AUC = 76.92% at epoch 49\n"
     ]
    },
    {
     "name": "stderr",
     "output_type": "stream",
     "text": [
      "Testing: 100%|██████████| 19/19 [00:01<00:00,  9.78batch/s, Loss = 0.5780, AUC = 76.55%]                                                         \n"
     ]
    }
   ],
   "source": [
    "model = VisionTransformer(num_classes=2, patch_size=10, hidden_size=8, num_heads=2, num_transformer_blocks=4, mlp_hidden_size=4,\n",
    "                          quantum_attn_circuit=get_circuit(), quantum_mlp_circuit=get_circuit())\n",
    "test_loss, test_auc, test_fpr, test_tpr = train_and_evaluate(model, ep_train_dataloader, ep_val_dataloader, ep_test_dataloader, num_classes=2, num_epochs=50)"
   ]
  },
  {
   "cell_type": "markdown",
   "metadata": {},
   "source": [
    "Next, another hyperparameter configuration that was found by hyperparameter search is the following one, which obtains a test AUC which surpasses the best classical baseline! Moreover, the model is much smaller (less parameters). Curioulsy, the patch size is 32x32, which is the same size as the input images."
   ]
  },
  {
   "cell_type": "code",
   "execution_count": 8,
   "metadata": {},
   "outputs": [
    {
     "name": "stdout",
     "output_type": "stream",
     "text": [
      "Number of parameters = 17578\n"
     ]
    },
    {
     "name": "stderr",
     "output_type": "stream",
     "text": [
      "Epoch   1/100: 100%|██████████| 857/857 [02:46<00:00,  5.14batch/s, Loss = 0.6462, AUC = 66.74%]                                                 \n",
      "Epoch   2/100: 100%|██████████| 857/857 [00:34<00:00, 24.63batch/s, Loss = 0.6367, AUC = 68.60%]                                                 \n",
      "Epoch   3/100: 100%|██████████| 857/857 [00:35<00:00, 24.35batch/s, Loss = 0.6323, AUC = 70.00%]                                                 \n",
      "Epoch   4/100: 100%|██████████| 857/857 [00:34<00:00, 24.87batch/s, Loss = 0.6152, AUC = 71.88%]                                                 \n",
      "Epoch   5/100: 100%|██████████| 857/857 [00:34<00:00, 24.73batch/s, Loss = 0.6109, AUC = 72.82%]                                                 \n",
      "Epoch   6/100: 100%|██████████| 857/857 [00:34<00:00, 24.99batch/s, Loss = 0.6080, AUC = 73.54%]                                                 \n",
      "Epoch   7/100: 100%|██████████| 857/857 [00:34<00:00, 24.52batch/s, Loss = 0.6004, AUC = 73.98%]                                                 \n",
      "Epoch   8/100: 100%|██████████| 857/857 [00:34<00:00, 25.10batch/s, Loss = 0.5961, AUC = 74.65%]                                                 \n",
      "Epoch   9/100: 100%|██████████| 857/857 [00:34<00:00, 25.13batch/s, Loss = 0.5938, AUC = 74.80%]                                                 \n",
      "Epoch  10/100: 100%|██████████| 857/857 [00:35<00:00, 24.33batch/s, Loss = 0.5998, AUC = 74.50%]                                                 \n",
      "Epoch  11/100: 100%|██████████| 857/857 [00:34<00:00, 24.95batch/s, Loss = 0.5900, AUC = 75.38%]                                                 \n",
      "Epoch  12/100: 100%|██████████| 857/857 [00:34<00:00, 25.03batch/s, Loss = 0.5902, AUC = 75.46%]                                                 \n",
      "Epoch  13/100: 100%|██████████| 857/857 [00:33<00:00, 25.22batch/s, Loss = 0.5908, AUC = 75.63%]                                                 \n",
      "Epoch  14/100: 100%|██████████| 857/857 [00:34<00:00, 24.64batch/s, Loss = 0.5893, AUC = 75.56%]                                                 \n",
      "Epoch  15/100: 100%|██████████| 857/857 [00:34<00:00, 24.96batch/s, Loss = 0.6037, AUC = 75.37%]                                                 \n",
      "Epoch  16/100: 100%|██████████| 857/857 [00:34<00:00, 25.16batch/s, Loss = 0.5793, AUC = 76.32%]                                                 \n",
      "Epoch  17/100: 100%|██████████| 857/857 [00:34<00:00, 24.92batch/s, Loss = 0.5842, AUC = 76.01%]                                                 \n",
      "Epoch  18/100: 100%|██████████| 857/857 [00:35<00:00, 24.24batch/s, Loss = 0.5919, AUC = 76.18%]                                                 \n",
      "Epoch  19/100: 100%|██████████| 857/857 [00:34<00:00, 25.05batch/s, Loss = 0.5821, AUC = 76.07%]                                                 \n",
      "Epoch  20/100: 100%|██████████| 857/857 [00:34<00:00, 25.08batch/s, Loss = 0.5808, AUC = 76.34%]                                                 \n",
      "Epoch  21/100: 100%|██████████| 857/857 [00:34<00:00, 25.07batch/s, Loss = 0.5787, AUC = 76.45%]                                                 \n",
      "Epoch  22/100: 100%|██████████| 857/857 [00:35<00:00, 24.46batch/s, Loss = 0.5825, AUC = 76.42%]                                                 \n",
      "Epoch  23/100: 100%|██████████| 857/857 [00:34<00:00, 25.05batch/s, Loss = 0.5854, AUC = 76.21%]                                                 \n",
      "Epoch  24/100: 100%|██████████| 857/857 [00:34<00:00, 24.50batch/s, Loss = 0.5849, AUC = 76.60%]                                                 \n",
      "Epoch  25/100: 100%|██████████| 857/857 [00:35<00:00, 24.33batch/s, Loss = 0.5888, AUC = 75.69%]                                                 \n",
      "Epoch  26/100: 100%|██████████| 857/857 [00:34<00:00, 25.07batch/s, Loss = 0.5750, AUC = 76.83%]                                                 \n",
      "Epoch  27/100: 100%|██████████| 857/857 [00:34<00:00, 24.85batch/s, Loss = 0.5870, AUC = 76.37%]                                                 \n",
      "Epoch  28/100: 100%|██████████| 857/857 [00:35<00:00, 24.46batch/s, Loss = 0.5716, AUC = 77.15%]                                                 \n",
      "Epoch  29/100: 100%|██████████| 857/857 [00:35<00:00, 23.91batch/s, Loss = 0.5806, AUC = 76.67%]                                                 \n",
      "Epoch  30/100: 100%|██████████| 857/857 [00:34<00:00, 25.02batch/s, Loss = 0.5765, AUC = 77.11%]                                                 \n",
      "Epoch  31/100: 100%|██████████| 857/857 [00:34<00:00, 24.64batch/s, Loss = 0.5738, AUC = 77.10%]                                                 \n",
      "Epoch  32/100: 100%|██████████| 857/857 [00:34<00:00, 24.51batch/s, Loss = 0.5729, AUC = 77.29%]                                                 \n",
      "Epoch  33/100: 100%|██████████| 857/857 [00:35<00:00, 24.43batch/s, Loss = 0.5739, AUC = 77.41%]                                                 \n",
      "Epoch  34/100: 100%|██████████| 857/857 [00:35<00:00, 24.23batch/s, Loss = 0.5747, AUC = 77.25%]                                                 \n",
      "Epoch  35/100: 100%|██████████| 857/857 [00:34<00:00, 25.12batch/s, Loss = 0.5699, AUC = 77.41%]                                                 \n",
      "Epoch  36/100: 100%|██████████| 857/857 [00:34<00:00, 25.13batch/s, Loss = 0.5746, AUC = 77.32%]                                                 \n",
      "Epoch  37/100: 100%|██████████| 857/857 [00:34<00:00, 24.68batch/s, Loss = 0.5769, AUC = 77.32%]                                                 \n",
      "Epoch  38/100: 100%|██████████| 857/857 [00:34<00:00, 24.49batch/s, Loss = 0.5739, AUC = 77.23%]                                                 \n",
      "Epoch  39/100: 100%|██████████| 857/857 [00:34<00:00, 25.00batch/s, Loss = 0.5790, AUC = 77.19%]                                                 \n",
      "Epoch  40/100: 100%|██████████| 857/857 [00:33<00:00, 25.21batch/s, Loss = 0.5701, AUC = 77.37%]                                                 \n",
      "Epoch  41/100: 100%|██████████| 857/857 [00:35<00:00, 23.89batch/s, Loss = 0.5708, AUC = 77.29%]                                                 \n",
      "Epoch  42/100: 100%|██████████| 857/857 [00:34<00:00, 25.11batch/s, Loss = 0.5726, AUC = 77.35%]                                                 \n",
      "Epoch  43/100: 100%|██████████| 857/857 [00:34<00:00, 24.95batch/s, Loss = 0.5730, AUC = 77.35%]                                                 \n",
      "Epoch  44/100: 100%|██████████| 857/857 [00:35<00:00, 24.18batch/s, Loss = 0.5750, AUC = 77.03%]                                                 \n",
      "Epoch  45/100: 100%|██████████| 857/857 [00:35<00:00, 24.36batch/s, Loss = 0.5733, AUC = 77.26%]                                                 \n",
      "Epoch  46/100: 100%|██████████| 857/857 [00:34<00:00, 25.01batch/s, Loss = 0.5753, AUC = 77.43%]                                                 \n",
      "Epoch  47/100: 100%|██████████| 857/857 [00:34<00:00, 25.11batch/s, Loss = 0.5736, AUC = 77.39%]                                                 \n",
      "Epoch  48/100: 100%|██████████| 857/857 [00:35<00:00, 24.43batch/s, Loss = 0.5692, AUC = 77.67%]                                                 \n",
      "Epoch  49/100: 100%|██████████| 857/857 [00:34<00:00, 24.83batch/s, Loss = 0.5732, AUC = 77.24%]                                                 \n",
      "Epoch  50/100: 100%|██████████| 857/857 [00:34<00:00, 24.81batch/s, Loss = 0.5767, AUC = 77.26%]                                                 \n",
      "Epoch  51/100: 100%|██████████| 857/857 [00:34<00:00, 25.06batch/s, Loss = 0.5705, AUC = 77.53%]                                                 \n",
      "Epoch  52/100: 100%|██████████| 857/857 [00:34<00:00, 24.53batch/s, Loss = 0.5675, AUC = 77.83%]                                                 \n",
      "Epoch  53/100: 100%|██████████| 857/857 [00:35<00:00, 24.38batch/s, Loss = 0.5681, AUC = 77.65%]                                                 \n",
      "Epoch  54/100: 100%|██████████| 857/857 [00:34<00:00, 25.08batch/s, Loss = 0.5743, AUC = 77.59%]                                                 \n",
      "Epoch  55/100: 100%|██████████| 857/857 [00:34<00:00, 25.01batch/s, Loss = 0.5722, AUC = 77.54%]                                                 \n",
      "Epoch  56/100: 100%|██████████| 857/857 [00:35<00:00, 24.32batch/s, Loss = 0.5689, AUC = 77.70%]                                                 \n",
      "Epoch  57/100: 100%|██████████| 857/857 [00:34<00:00, 25.02batch/s, Loss = 0.5688, AUC = 77.59%]                                                 \n",
      "Epoch  58/100: 100%|██████████| 857/857 [00:34<00:00, 25.03batch/s, Loss = 0.5705, AUC = 77.57%]                                                 \n",
      "Epoch  59/100: 100%|██████████| 857/857 [00:35<00:00, 24.40batch/s, Loss = 0.5701, AUC = 77.81%]                                                 \n",
      "Epoch  60/100: 100%|██████████| 857/857 [00:34<00:00, 24.57batch/s, Loss = 0.5704, AUC = 77.61%]                                                 \n",
      "Epoch  61/100: 100%|██████████| 857/857 [00:34<00:00, 24.98batch/s, Loss = 0.5685, AUC = 77.80%]                                                 \n",
      "Epoch  62/100: 100%|██████████| 857/857 [00:34<00:00, 24.67batch/s, Loss = 0.5690, AUC = 77.66%]                                                 \n",
      "Epoch  63/100: 100%|██████████| 857/857 [00:35<00:00, 24.46batch/s, Loss = 0.5692, AUC = 77.69%]                                                 \n",
      "Epoch  64/100: 100%|██████████| 857/857 [00:34<00:00, 25.06batch/s, Loss = 0.5711, AUC = 77.78%]                                                 \n",
      "Epoch  65/100: 100%|██████████| 857/857 [00:35<00:00, 24.49batch/s, Loss = 0.5801, AUC = 76.80%]                                                 \n",
      "Epoch  66/100: 100%|██████████| 857/857 [00:34<00:00, 25.05batch/s, Loss = 0.5688, AUC = 77.60%]                                                 \n",
      "Epoch  67/100: 100%|██████████| 857/857 [00:34<00:00, 24.53batch/s, Loss = 0.5757, AUC = 77.49%]                                                 \n",
      "Epoch  68/100: 100%|██████████| 857/857 [00:34<00:00, 24.66batch/s, Loss = 0.5701, AUC = 77.60%]                                                 \n",
      "Epoch  69/100: 100%|██████████| 857/857 [00:34<00:00, 25.05batch/s, Loss = 0.5733, AUC = 77.64%]                                                 \n",
      "Epoch  70/100: 100%|██████████| 857/857 [00:34<00:00, 24.86batch/s, Loss = 0.5663, AUC = 77.74%]                                                 \n",
      "Epoch  71/100: 100%|██████████| 857/857 [00:35<00:00, 24.26batch/s, Loss = 0.5699, AUC = 77.80%]                                                 \n",
      "Epoch  72/100: 100%|██████████| 857/857 [00:34<00:00, 24.50batch/s, Loss = 0.5726, AUC = 77.64%]                                                 \n",
      "Epoch  73/100: 100%|██████████| 857/857 [00:34<00:00, 25.05batch/s, Loss = 0.5688, AUC = 77.71%]                                                 \n",
      "Epoch  74/100: 100%|██████████| 857/857 [00:34<00:00, 24.97batch/s, Loss = 0.5673, AUC = 77.71%]                                                 \n",
      "Epoch  75/100: 100%|██████████| 857/857 [00:35<00:00, 24.20batch/s, Loss = 0.5729, AUC = 77.83%]                                                 \n",
      "Epoch  76/100: 100%|██████████| 857/857 [00:35<00:00, 24.44batch/s, Loss = 0.5669, AUC = 77.73%]                                                 \n",
      "Epoch  77/100: 100%|██████████| 857/857 [00:34<00:00, 24.99batch/s, Loss = 0.5711, AUC = 77.59%]                                                 \n",
      "Epoch  78/100: 100%|██████████| 857/857 [00:34<00:00, 24.90batch/s, Loss = 0.5712, AUC = 77.73%]                                                 \n",
      "Epoch  79/100: 100%|██████████| 857/857 [00:35<00:00, 24.18batch/s, Loss = 0.5655, AUC = 77.81%]                                                 \n",
      "Epoch  80/100: 100%|██████████| 857/857 [00:34<00:00, 25.18batch/s, Loss = 0.5714, AUC = 77.76%]                                                 \n",
      "Epoch  81/100: 100%|██████████| 857/857 [00:34<00:00, 25.01batch/s, Loss = 0.5705, AUC = 77.63%]                                                 \n",
      "Epoch  82/100: 100%|██████████| 857/857 [00:35<00:00, 24.48batch/s, Loss = 0.5741, AUC = 77.66%]                                                 \n",
      "Epoch  83/100: 100%|██████████| 857/857 [00:34<00:00, 24.82batch/s, Loss = 0.5736, AUC = 77.50%]                                                 \n",
      "Epoch  84/100: 100%|██████████| 857/857 [00:34<00:00, 24.68batch/s, Loss = 0.5665, AUC = 77.71%]                                                 \n",
      "Epoch  85/100: 100%|██████████| 857/857 [00:34<00:00, 24.90batch/s, Loss = 0.5736, AUC = 77.61%]                                                 \n",
      "Epoch  86/100: 100%|██████████| 857/857 [00:35<00:00, 24.15batch/s, Loss = 0.5733, AUC = 77.59%]                                                 \n",
      "Epoch  87/100: 100%|██████████| 857/857 [00:34<00:00, 24.53batch/s, Loss = 0.5705, AUC = 77.61%]                                                 \n",
      "Epoch  88/100: 100%|██████████| 857/857 [00:34<00:00, 25.04batch/s, Loss = 0.5706, AUC = 77.78%]                                                 \n",
      "Epoch  89/100: 100%|██████████| 857/857 [00:34<00:00, 24.71batch/s, Loss = 0.5668, AUC = 77.90%]                                                 \n",
      "Epoch  90/100: 100%|██████████| 857/857 [00:34<00:00, 24.62batch/s, Loss = 0.5664, AUC = 77.88%]                                                 \n",
      "Epoch  91/100: 100%|██████████| 857/857 [00:34<00:00, 25.03batch/s, Loss = 0.5688, AUC = 77.84%]                                                 \n",
      "Epoch  92/100: 100%|██████████| 857/857 [00:33<00:00, 25.34batch/s, Loss = 0.5686, AUC = 77.79%]                                                 \n",
      "Epoch  93/100: 100%|██████████| 857/857 [00:35<00:00, 24.10batch/s, Loss = 0.5705, AUC = 77.64%]                                                 \n",
      "Epoch  94/100: 100%|██████████| 857/857 [00:34<00:00, 24.49batch/s, Loss = 0.5685, AUC = 77.77%]                                                 \n",
      "Epoch  95/100: 100%|██████████| 857/857 [00:34<00:00, 25.13batch/s, Loss = 0.5749, AUC = 77.66%]                                                 \n",
      "Epoch  96/100: 100%|██████████| 857/857 [00:34<00:00, 25.12batch/s, Loss = 0.5645, AUC = 77.93%]                                                 \n",
      "Epoch  97/100: 100%|██████████| 857/857 [00:35<00:00, 24.02batch/s, Loss = 0.5690, AUC = 77.67%]                                                 \n",
      "Epoch  98/100: 100%|██████████| 857/857 [00:34<00:00, 25.14batch/s, Loss = 0.5683, AUC = 77.80%]                                                 \n",
      "Epoch  99/100: 100%|██████████| 857/857 [00:34<00:00, 24.60batch/s, Loss = 0.5768, AUC = 77.47%]                                                 \n",
      "Epoch 100/100: 100%|██████████| 857/857 [00:35<00:00, 23.87batch/s, Loss = 0.5687, AUC = 77.89%]                                                 \n"
     ]
    },
    {
     "name": "stdout",
     "output_type": "stream",
     "text": [
      "Total training time = 3598.45s, best validation AUC = 77.93% at epoch 96\n"
     ]
    },
    {
     "name": "stderr",
     "output_type": "stream",
     "text": [
      "Testing: 100%|██████████| 19/19 [00:01<00:00, 12.19batch/s, Loss = 0.5653, AUC = 77.93%]                                                         \n"
     ]
    }
   ],
   "source": [
    "model = VisionTransformer(num_classes=2, patch_size=32, hidden_size=8, num_heads=4, num_transformer_blocks=8, mlp_hidden_size=4, pos_embedding='sincos',\n",
    "                          quantum_attn_circuit=get_circuit(), quantum_mlp_circuit=get_circuit())\n",
    "test_loss, test_auc, test_fpr, test_tpr = train_and_evaluate(model, ep_train_dataloader, ep_val_dataloader, ep_test_dataloader, num_classes=2, num_epochs=100, lrs_peak_value=0.004, lrs_warmup_steps=0, lrs_decay_steps=1000000)"
   ]
  }
 ],
 "metadata": {
  "kernelspec": {
   "display_name": "qt",
   "language": "python",
   "name": "qt"
  },
  "language_info": {
   "codemirror_mode": {
    "name": "ipython",
    "version": 3
   },
   "file_extension": ".py",
   "mimetype": "text/x-python",
   "name": "python",
   "nbconvert_exporter": "python",
   "pygments_lexer": "ipython3",
   "version": "3.11.4"
  }
 },
 "nbformat": 4,
 "nbformat_minor": 4
}
